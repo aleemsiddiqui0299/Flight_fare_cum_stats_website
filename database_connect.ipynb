{
 "cells": [
  {
   "cell_type": "code",
   "execution_count": 4,
   "metadata": {},
   "outputs": [],
   "source": [
    "# !pip install ibm_db\n",
    "import ibm_db"
   ]
  },
  {
   "cell_type": "code",
   "execution_count": 5,
   "metadata": {},
   "outputs": [],
   "source": [
    "#Replace the placeholder values with your actual Db2 hostname, username, and password:\n",
    "dsn_hostname = \"0c77d6f2-5da9-48a9-81f8-86b520b87518.bs2io90l08kqb1od8lcg.databases.appdomain.cloud\" \n",
    "dsn_uid = \"lmg03226\"       \n",
    "dsn_pwd = \"RVH1zLCHRTUB0A6p\"      \n",
    "\n",
    "dsn_driver = \"{IBM DB2 ODBC DRIVER}\"\n",
    "dsn_database = \"bludb\"           \n",
    "dsn_port = \"31198\"                \n",
    "dsn_protocol = \"TCPIP\"           \n",
    "dsn_security = \"SSL\"             "
   ]
  },
  {
   "cell_type": "code",
   "execution_count": 6,
   "metadata": {},
   "outputs": [
    {
     "name": "stdout",
     "output_type": "stream",
     "text": [
      "DRIVER={IBM DB2 ODBC DRIVER};DATABASE=bludb;HOSTNAME=0c77d6f2-5da9-48a9-81f8-86b520b87518.bs2io90l08kqb1od8lcg.databases.appdomain.cloud;PORT=31198;PROTOCOL=TCPIP;UID=lmg03226;PWD=RVH1zLCHRTUB0A6p;SECURITY=SSL;\n"
     ]
    }
   ],
   "source": [
    "dsn = (\n",
    "    \"DRIVER={0};\"\n",
    "    \"DATABASE={1};\"\n",
    "    \"HOSTNAME={2};\"\n",
    "    \"PORT={3};\"\n",
    "    \"PROTOCOL={4};\"\n",
    "    \"UID={5};\"\n",
    "    \"PWD={6};\"\n",
    "    \"SECURITY={7};\").format(dsn_driver, dsn_database, dsn_hostname, dsn_port, dsn_protocol, dsn_uid, dsn_pwd,dsn_security)\n",
    "\n",
    "#print the connection string to check correct values are specified\n",
    "print(dsn)"
   ]
  },
  {
   "cell_type": "code",
   "execution_count": 13,
   "metadata": {},
   "outputs": [
    {
     "name": "stdout",
     "output_type": "stream",
     "text": [
      "Connected to database:  bludb as user:  lmg03226 on host:  0c77d6f2-5da9-48a9-81f8-86b520b87518.bs2io90l08kqb1od8lcg.databases.appdomain.cloud\n"
     ]
    }
   ],
   "source": [
    "#Create database connection\n",
    "\n",
    "try:\n",
    "    conn = ibm_db.connect(dsn, \"\",\"\")\n",
    "    print(\"Connected to database: \", dsn_database, \"as user: \", dsn_uid, \"on host: \", dsn_hostname)\n",
    "    \n",
    "except:\n",
    "    print(\"Unable to connect: \", ibm_db.conn_errormsg())"
   ]
  },
  {
   "cell_type": "code",
   "execution_count": 14,
   "metadata": {},
   "outputs": [
    {
     "name": "stdout",
     "output_type": "stream",
     "text": [
      "DBMS_NAME:  DB2/LINUXX8664\n",
      "DBMS_VER:   11.05.0500\n",
      "DB_NAME:    BLUDB\n"
     ]
    }
   ],
   "source": [
    "server = ibm_db.server_info(conn)\n",
    "print (\"DBMS_NAME: \", server.DBMS_NAME)\n",
    "print (\"DBMS_VER:  \", server.DBMS_VER)\n",
    "print (\"DB_NAME:   \", server.DB_NAME)"
   ]
  },
  {
   "cell_type": "code",
   "execution_count": 15,
   "metadata": {},
   "outputs": [
    {
     "name": "stdout",
     "output_type": "stream",
     "text": [
      "DRIVER_NAME:           DB2CLI.DLL\n",
      "DRIVER_VER:            11.05.0500\n",
      "DATA_SOURCE_NAME:      BLUDB\n",
      "DRIVER_ODBC_VER:       03.51\n",
      "ODBC_VER:              03.01.0000\n",
      "ODBC_SQL_CONFORMANCE:  EXTENDED\n",
      "APPL_CODEPAGE:         1252\n",
      "CONN_CODEPAGE:         1208\n"
     ]
    }
   ],
   "source": [
    "client = ibm_db.client_info(conn)\n",
    "print (\"DRIVER_NAME:          \", client.DRIVER_NAME) \n",
    "print (\"DRIVER_VER:           \", client.DRIVER_VER)\n",
    "print (\"DATA_SOURCE_NAME:     \", client.DATA_SOURCE_NAME)\n",
    "print (\"DRIVER_ODBC_VER:      \", client.DRIVER_ODBC_VER)\n",
    "print (\"ODBC_VER:             \", client.ODBC_VER)\n",
    "print (\"ODBC_SQL_CONFORMANCE: \", client.ODBC_SQL_CONFORMANCE)\n",
    "print (\"APPL_CODEPAGE:        \", client.APPL_CODEPAGE)\n",
    "print (\"CONN_CODEPAGE:        \", client.CONN_CODEPAGE)"
   ]
  },
  {
   "cell_type": "code",
   "execution_count": 21,
   "metadata": {},
   "outputs": [],
   "source": [
    "dropQuery = \"DROP TABLE CONTACTS\"\n",
    "\n",
    "dropSt = ibm_db.exec_immediate(conn, dropQuery)"
   ]
  },
  {
   "cell_type": "code",
   "execution_count": 22,
   "metadata": {},
   "outputs": [],
   "source": [
    "createQuery = \"CREATE TABLE CONTACTS(PHNO VARCHAR(20) PRIMARY KEY NOT NULL, FNAME VARCHAR(40), EMAIL_ID VARCHAR(40))\"\n",
    "\n",
    "createSt = ibm_db.exec_immediate(conn, createQuery)"
   ]
  },
  {
   "cell_type": "code",
   "execution_count": 23,
   "metadata": {},
   "outputs": [],
   "source": [
    "insertQuery = \"INSERT INTO CONTACTS VALUES('9811537428','Aleem Siddiqui', 'aleemsiddiqui@gmail.com' )\"\n",
    "insertQuery2 = \"INSERT INTO CONTACTS VALUES('9811537418','Rahma Siddiqui', 'rahmaiddiqui@gmail.com' )\"\n",
    "\n",
    "insertSt = ibm_db.exec_immediate(conn, insertQuery)\n",
    "insertSt2 = ibm_db.exec_immediate(conn, insertQuery2)\n",
    "\n"
   ]
  },
  {
   "cell_type": "code",
   "execution_count": 33,
   "metadata": {},
   "outputs": [
    {
     "name": "stdout",
     "output_type": "stream",
     "text": [
      "9811537428 Aleem Siddiqui aleemsiddiqui@gmail.com\n",
      "9811537418 Rahma Siddiqui rahmaiddiqui@gmail.com\n"
     ]
    }
   ],
   "source": [
    "selectQuery = \"SELECT * FROM CONTACTS\"\n",
    "\n",
    "selectSt = ibm_db.exec_immediate(conn, selectQuery)\n",
    "\n",
    "# ibm_db.fetch_both(selectSt)\n",
    "while ibm_db.fetch_row(selectSt) != False:\n",
    "        print(ibm_db.result(selectSt,0),ibm_db.result(selectSt,1),ibm_db.result(selectSt,2) )"
   ]
  },
  {
   "cell_type": "code",
   "execution_count": 35,
   "metadata": {},
   "outputs": [],
   "source": [
    "import pandas\n",
    "import ibm_db_dbi\n",
    "\n",
    "pconn = ibm_db_dbi.Connection(conn)"
   ]
  },
  {
   "cell_type": "code",
   "execution_count": 38,
   "metadata": {},
   "outputs": [
    {
     "data": {
      "text/html": [
       "<div>\n",
       "<style scoped>\n",
       "    .dataframe tbody tr th:only-of-type {\n",
       "        vertical-align: middle;\n",
       "    }\n",
       "\n",
       "    .dataframe tbody tr th {\n",
       "        vertical-align: top;\n",
       "    }\n",
       "\n",
       "    .dataframe thead th {\n",
       "        text-align: right;\n",
       "    }\n",
       "</style>\n",
       "<table border=\"1\" class=\"dataframe\">\n",
       "  <thead>\n",
       "    <tr style=\"text-align: right;\">\n",
       "      <th></th>\n",
       "      <th>PHNO</th>\n",
       "      <th>FNAME</th>\n",
       "      <th>EMAIL_ID</th>\n",
       "    </tr>\n",
       "  </thead>\n",
       "  <tbody>\n",
       "    <tr>\n",
       "      <td>0</td>\n",
       "      <td>9811537428</td>\n",
       "      <td>Aleem Siddiqui</td>\n",
       "      <td>aleemsiddiqui@gmail.com</td>\n",
       "    </tr>\n",
       "    <tr>\n",
       "      <td>1</td>\n",
       "      <td>9811537418</td>\n",
       "      <td>Rahma Siddiqui</td>\n",
       "      <td>rahmaiddiqui@gmail.com</td>\n",
       "    </tr>\n",
       "  </tbody>\n",
       "</table>\n",
       "</div>"
      ],
      "text/plain": [
       "         PHNO           FNAME                 EMAIL_ID\n",
       "0  9811537428  Aleem Siddiqui  aleemsiddiqui@gmail.com\n",
       "1  9811537418  Rahma Siddiqui   rahmaiddiqui@gmail.com"
      ]
     },
     "execution_count": 38,
     "metadata": {},
     "output_type": "execute_result"
    }
   ],
   "source": [
    "selectQuery = \"select * from CONTACTS\"\n",
    "\n",
    "#retrieve the query results into a pandas dataframe\n",
    "pdf = pandas.read_sql(selectQuery, pconn)\n",
    "\n",
    "#print just the LNAME for first row in the pandas data frame\n",
    "pdf"
   ]
  },
  {
   "cell_type": "code",
   "execution_count": 39,
   "metadata": {},
   "outputs": [
    {
     "data": {
      "text/plain": [
       "True"
      ]
     },
     "execution_count": 39,
     "metadata": {},
     "output_type": "execute_result"
    }
   ],
   "source": [
    "ibm_db.close(conn)"
   ]
  }
 ],
 "metadata": {
  "kernelspec": {
   "display_name": "Python 3",
   "language": "python",
   "name": "python3"
  },
  "language_info": {
   "codemirror_mode": {
    "name": "ipython",
    "version": 3
   },
   "file_extension": ".py",
   "mimetype": "text/x-python",
   "name": "python",
   "nbconvert_exporter": "python",
   "pygments_lexer": "ipython3",
   "version": "3.7.4"
  }
 },
 "nbformat": 4,
 "nbformat_minor": 2
}
